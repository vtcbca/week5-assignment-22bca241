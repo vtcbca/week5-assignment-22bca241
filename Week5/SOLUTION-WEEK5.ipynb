{
 "cells": [
  {
   "cell_type": "code",
   "execution_count": 1,
   "id": "68f1e9d6-c09e-46c8-bf17-c15e1e61f46d",
   "metadata": {},
   "outputs": [],
   "source": [
    "import csv"
   ]
  },
  {
   "cell_type": "code",
   "execution_count": 2,
   "id": "fdd3c665-677c-46b1-b24e-8b60f859f610",
   "metadata": {},
   "outputs": [],
   "source": [
    "header=['SID','SNAME','CITY','CONTACT']"
   ]
  },
  {
   "cell_type": "code",
   "execution_count": 3,
   "id": "40f11d56-90ba-4779-83ab-4496deaba823",
   "metadata": {},
   "outputs": [],
   "source": [
    "S=[[1,'Om','Bardoli',9999997678],\n",
    "        [2,'Sai','surat',6576854300],\n",
    "        [3,'Ram','vyara',6756902277],\n",
    "        [4,'Radha','digas',5465990065],\n",
    "        [5,'Krishna','surat',3000567809]]\n"
   ]
  },
  {
   "cell_type": "markdown",
   "id": "487b575d-130e-4d5e-9961-466e1c849b2b",
   "metadata": {},
   "source": [
    "#User Input"
   ]
  },
  {
   "cell_type": "code",
   "execution_count": 4,
   "id": "315b7678-d59b-41f9-b16e-ebaa43ef489b",
   "metadata": {},
   "outputs": [],
   "source": [
    "list=[]"
   ]
  },
  {
   "cell_type": "code",
   "execution_count": 6,
   "id": "ceebe0a5-357c-4dcf-93fb-d33592c93c90",
   "metadata": {},
   "outputs": [
    {
     "name": "stdin",
     "output_type": "stream",
     "text": [
      "Enter Student Id: 1\n",
      "Enter Student Name: sds\n",
      "Enter Student City: retr\n",
      "Enter Student Contect Number: 35678980\n",
      "Enter Student Id: 2\n",
      "Enter Student Name: dexfgdcbh\n",
      "Enter Student City: sdfdgh\n",
      "Enter Student Contect Number: 45658790\n",
      "Enter Student Id: 3\n",
      "Enter Student Name: fdg\n",
      "Enter Student City: fgfh\n",
      "Enter Student Contect Number: 46587798\n",
      "Enter Student Id: 4\n",
      "Enter Student Name: dcgvf\n",
      "Enter Student City: fvghg\n",
      "Enter Student Contect Number: 35465\n",
      "Enter Student Id: 5\n",
      "Enter Student Name: fcgf\n",
      "Enter Student City: gfd\n",
      "Enter Student Contect Number: 3546778\n"
     ]
    }
   ],
   "source": [
    "for i in range(5):\n",
    "    SID=int(input(\"Enter Student Id:\"))\n",
    "    SNAME=input(\"Enter Student Name:\")\n",
    "    CITY=input(\"Enter Student City:\")\n",
    "    CONTACT=int(input(\"Enter Student Contect Number:\"))\n",
    "    l=[SID,SNAME,CITY,CONTACT]\n",
    "    list.append(l)"
   ]
  },
  {
   "cell_type": "code",
   "execution_count": 7,
   "id": "1ea3727f-c5ca-4ce3-891f-1553eba20e53",
   "metadata": {},
   "outputs": [],
   "source": [
    "import csv"
   ]
  },
  {
   "cell_type": "code",
   "execution_count": 8,
   "id": "95a269b2-54d3-4b83-8918-2cbc13c37b87",
   "metadata": {},
   "outputs": [],
   "source": [
    "with open('Student.csv','w',newline='')as csv_file:\n",
    "    w=csv.writer(csv_file)\n",
    "    w.writerow(header)\n",
    "    w.writerows(S)\n",
    "    w.writerows(list)"
   ]
  },
  {
   "cell_type": "code",
   "execution_count": 10,
   "id": "d192ecaf-475c-455a-807b-bd2b1f581f50",
   "metadata": {},
   "outputs": [
    {
     "name": "stdout",
     "output_type": "stream",
     "text": [
      "['SID', 'SNAME', 'CITY', 'CONTACT']\n",
      "['1', 'Om', 'Bardoli', '9999997678']\n",
      "['2', 'Sai', 'surat', '6576854300']\n",
      "['3', 'Ram', 'vyara', '6756902277']\n",
      "['4', 'Radha', 'digas', '5465990065']\n",
      "['5', 'Krishna', 'surat', '3000567809']\n",
      "['1', 'sds', 'retr', '35678980']\n",
      "['2', 'dexfgdcbh', 'sdfdgh', '45658790']\n",
      "['3', 'fdg', 'fgfh', '46587798']\n",
      "['4', 'dcgvf', 'fvghg', '35465']\n",
      "['5', 'fcgf', 'gfd', '3546778']\n"
     ]
    }
   ],
   "source": [
    "import csv\n",
    "with open('Student.csv','r')as read_obj:\n",
    "    data=csv.reader(read_obj)\n",
    "    for S in data:\n",
    "        print(S)"
   ]
  },
  {
   "cell_type": "code",
   "execution_count": null,
   "id": "6d67431f-29c2-4397-a1a6-ba94322c76ad",
   "metadata": {},
   "outputs": [],
   "source": []
  }
 ],
 "metadata": {
  "kernelspec": {
   "display_name": "Python 3 (ipykernel)",
   "language": "python",
   "name": "python3"
  },
  "language_info": {
   "codemirror_mode": {
    "name": "ipython",
    "version": 3
   },
   "file_extension": ".py",
   "mimetype": "text/x-python",
   "name": "python",
   "nbconvert_exporter": "python",
   "pygments_lexer": "ipython3",
   "version": "3.9.6"
  }
 },
 "nbformat": 4,
 "nbformat_minor": 5
}
